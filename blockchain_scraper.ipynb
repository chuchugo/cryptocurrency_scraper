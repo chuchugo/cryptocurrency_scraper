{
 "cells": [
  {
   "cell_type": "markdown",
   "metadata": {},
   "source": [
    "# Web scraper for bitcoin websites"
   ]
  },
  {
   "cell_type": "code",
   "execution_count": 123,
   "metadata": {},
   "outputs": [],
   "source": [
    "# load selenium for web scraping\n",
    "from selenium import webdriver\n",
    "def start_driver():\n",
    "    options = webdriver.ChromeOptions()\n",
    "    options.add_argument('--ignore-certificate-errors')\n",
    "    options.add_argument('--incognito')\n",
    "    options.add_argument('--headless')\n",
    "    #\"/Users/cc/opt/anaconda3/bin/chromedriver\",\n",
    "    driver = webdriver.Chrome( options=options)\n",
    "    #driver.get(\"https://etherscan.io/accounts\")\n",
    "    #driver.get(\"https://www.blockchain.com/btc/unconfirmed-transactions\")\n",
    "    return driver"
   ]
  },
  {
   "cell_type": "markdown",
   "metadata": {},
   "source": [
    "## 1. current coin market price board\n",
    "#### this is to get coin name, price, percentage change from cointelegraph.com"
   ]
  },
  {
   "cell_type": "code",
   "execution_count": 127,
   "metadata": {},
   "outputs": [],
   "source": [
    "from selenium.webdriver.common.by import By\n",
    "def get_data(driver):\n",
    "    driver.get(\"https://cointelegraph.com/price-indexes\")\n",
    "    # get table of accounts\n",
    "    #get coins and prices info from website\n",
    "    coins = driver.find_elements(By.XPATH, '//h2[@class=\"price-index-item__name\"]')\n",
    "    prices = driver.find_elements(By.XPATH, '//div[@class=\"price-index-item__col price-index-item__col_digits\"]')\n",
    "\n",
    "    # get the text from the elements\n",
    "    coin_list = [coin.text for coin in coins]\n",
    "    price_list = []\n",
    "    percentage_list = []\n",
    "    for p in prices:\n",
    "        # the first element is price, the second is percent\n",
    "        price_list.append(p.text.split(\"\\n\")[0])\n",
    "        percentage_list.append(p.text.split(\"\\n\")[1])\n",
    "    return coin_list, price_list, percentage_list\n",
    "\n",
    "def save_data(coin_list, price_list, percentage_list):\n",
    "    #create a dataframe\n",
    "    import pandas as pd \n",
    "    df = pd.DataFrame(list(zip(coin_list, price_list, percentage_list)),\n",
    "                    columns =['Coin', 'Price', 'change on Percentage'])\n",
    "    \n",
    "    df['time'] = pd.to_datetime('now')\n",
    "    df['time'] = df['time'].dt.strftime('%Y-%m-%d %H:%M:%S')\n",
    "    # add the dataframe to a csv file\n",
    "    df.to_csv('coin_price.csv', mode='a', header=True, index=False)\n",
    "\n",
    "def get_coin_prices():\n",
    "    driver = start_driver()\n",
    "    coin_list, price_list, percentage_list = get_data(driver)\n",
    "    save_data(coin_list, price_list, percentage_list)\n",
    "    driver.close()\n",
    "\n",
    "get_coin_prices()"
   ]
  },
  {
   "cell_type": "markdown",
   "metadata": {},
   "source": [
    "## 2. yahoo finance news of cryptocurrencies\n",
    "#### this can be used to get the latest news about most cryptocurrencies, about 5 to 170 for each type of currency.\n",
    "#### this program can be assigned with the number of top currencies the user want to learn about. 3 top types of currency would take about 20 seconds to get, with about 700 news articles."
   ]
  },
  {
   "cell_type": "markdown",
   "metadata": {},
   "source": [
    "#### Firstly, we need to get about 200 kinds of coins' names"
   ]
  },
  {
   "cell_type": "code",
   "execution_count": 114,
   "metadata": {},
   "outputs": [],
   "source": [
    "# get the type of bitcoins\n",
    "def get_coin_list():\n",
    "    driver.get(\"https://finance.yahoo.com/cryptocurrencies/?offset=0&count=200\")\n",
    "    # get table of accounts\n",
    "    #get coins and prices info from website\n",
    "    coins = driver.find_elements(By.XPATH, '//a[@data-test=\"quoteLink\"]')\n",
    "    # get the text from the elements\n",
    "    coin_list = [coin.text for coin in coins]\n",
    "    return coin_list"
   ]
  },
  {
   "cell_type": "markdown",
   "metadata": {},
   "source": [
    "#### Secondly, we get the news for each coin"
   ]
  },
  {
   "cell_type": "code",
   "execution_count": 112,
   "metadata": {},
   "outputs": [],
   "source": [
    "\n",
    "import time\n",
    "import pandas as pd\n",
    "def get_news_list(searchword, driver):\n",
    "    driver.get(\"https://finance.yahoo.com/quote/\"+searchword)\n",
    "    SCROLL_PAUSE_TIME = 0.5\n",
    "    # Get scroll height\n",
    "    scrollHeightstart = 0\n",
    "    scrollHeight = 10000\n",
    "    i=0\n",
    "    #usually the maximum # of news we cant get for each coin is about 170, so here we loop for 20 times\n",
    "    while i<20:\n",
    "        # Scroll down to bottom\n",
    "        driver.execute_script(\"window.scrollTo(\"+ str(scrollHeightstart)+\",\"+str(scrollHeightstart+scrollHeight)+\");\")\n",
    "        # Wait to load page\n",
    "        time.sleep(SCROLL_PAUSE_TIME)\n",
    "        scrollHeightstart += scrollHeight   \n",
    "        i+=1\n",
    "    news = driver.find_elements(By.XPATH, '//li[@class=\"js-stream-content Pos(r)\"]')\n",
    "    # get the text from the elements\n",
    "    news_list = [news.text for news in news]\n",
    "    #news can be split into source, time, title, and content\n",
    "    return news_list"
   ]
  },
  {
   "cell_type": "markdown",
   "metadata": {},
   "source": [
    "#### Then, this is for saving the news into csv"
   ]
  },
  {
   "cell_type": "code",
   "execution_count": 119,
   "metadata": {},
   "outputs": [],
   "source": [
    "def write_to_df(news_list,coin_type):\n",
    "    df = pd.DataFrame(news_list)\n",
    "    # seperate source with \"•\", seperate time with \"\\n\", seperate title with \"\\n\",\n",
    "    # seperate content with \"\\n\"\n",
    "    df[['source', 'time']] = df[0].str.split(\"•\", expand=True)\n",
    "    df[['time', 'title']] = df['time'].str.split(\"\\n\", 1,expand=True)\n",
    "    df[['title', 'content']] = df['title'].str.split(\"\\n\",1,expand=True)\n",
    "\n",
    "    # drop the first column\n",
    "    df.drop(columns=[0], inplace=True)\n",
    "    # save the dataframe to an existing csv file\n",
    "    df.to_csv('news.csv', mode='a', header=True, index=False)"
   ]
  },
  {
   "cell_type": "markdown",
   "metadata": {},
   "source": [
    "#### Finally, This is the program for running the whole news scraper\n",
    "##### Feel free to change the parameter for get_coin_news(Top_N_coins)"
   ]
  },
  {
   "cell_type": "code",
   "execution_count": 121,
   "metadata": {},
   "outputs": [
    {
     "name": "stderr",
     "output_type": "stream",
     "text": [
      "/var/folders/tz/hrdwjrcd3ysczgtsdtl2pwtc0000gn/T/ipykernel_41693/643330049.py:6: FutureWarning: In a future version of pandas all arguments of StringMethods.split except for the argument 'pat' will be keyword-only.\n",
      "  df[['time', 'title']] = df['time'].str.split(\"\\n\", 1,expand=True)\n",
      "/var/folders/tz/hrdwjrcd3ysczgtsdtl2pwtc0000gn/T/ipykernel_41693/643330049.py:7: FutureWarning: In a future version of pandas all arguments of StringMethods.split except for the argument 'pat' will be keyword-only.\n",
      "  df[['title', 'content']] = df['title'].str.split(\"\\n\",1,expand=True)\n"
     ]
    }
   ],
   "source": [
    "# Top_N_coins can range from 1 to 200\n",
    "def get_coin_news(Top_N_coins = 4):\n",
    "    #1. get the list of coins\n",
    "    coin_list = get_coin_list()\n",
    "    #2. start the web crawler\n",
    "    driver = start_driver()\n",
    "    #3. get the news for each coin\n",
    "    for coin in coin_list[0:Top_N_coins]:\n",
    "        #3.1 from the crawled news, we can get the news list, which includes--title, content, source, and time\n",
    "        news_list = get_news_list(coin, driver)\n",
    "        #3.2 write the news list to a csv file\n",
    "        write_to_df(news_list,coin)\n",
    "\n",
    "\n",
    "#run the whole second program\n",
    "get_coin_news(3)"
   ]
  }
 ],
 "metadata": {
  "kernelspec": {
   "display_name": "Python 3.9.7 ('base')",
   "language": "python",
   "name": "python3"
  },
  "language_info": {
   "codemirror_mode": {
    "name": "ipython",
    "version": 3
   },
   "file_extension": ".py",
   "mimetype": "text/x-python",
   "name": "python",
   "nbconvert_exporter": "python",
   "pygments_lexer": "ipython3",
   "version": "3.9.7"
  },
  "orig_nbformat": 4,
  "vscode": {
   "interpreter": {
    "hash": "427246f17c88321fc207e1df22bbfbf60d73ac3127db07e53ca61a776dcf46a7"
   }
  }
 },
 "nbformat": 4,
 "nbformat_minor": 2
}
